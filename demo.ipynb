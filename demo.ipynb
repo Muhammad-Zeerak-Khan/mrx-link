{
 "cells": [
  {
   "cell_type": "markdown",
   "id": "4fe7aeba-0e08-4b2f-ac94-dc6aec881378",
   "metadata": {
    "canvas": {
     "comments": [],
     "componentType": "CodeCell",
     "copiedOriginId": null,
     "diskcache": false,
     "headerColor": "transparent",
     "id": "c027af35-66f9-41fb-b1ff-76e669a3c50c",
     "isComponent": false,
     "name": "",
     "parents": []
    },
    "tags": []
   },
   "source": [
    "# Import Module"
   ]
  },
  {
   "cell_type": "code",
   "execution_count": 2,
   "id": "1f7c0f6e-22c8-4c44-ab16-4bb595c064aa",
   "metadata": {
    "canvas": {
     "comments": [],
     "componentType": "CodeCell",
     "copiedOriginId": null,
     "diskcache": true,
     "headerColor": "transparent",
     "id": "e0f3d615-9124-457e-b278-f81939b2d644",
     "isComponent": true,
     "name": "Import module",
     "parents": []
    },
    "tags": []
   },
   "outputs": [],
   "source": [
    "import tensorflow as tf\n",
    "import pandas as pd\n",
    "import matplotlib.pyplot as plt\n",
    "import seaborn as sns\n",
    "import warnings\n",
    "import numpy as np\n",
    "\n",
    "warnings.filterwarnings(\"ignore\")\n"
   ]
  },
  {
   "cell_type": "markdown",
   "id": "162aa105-65b8-42aa-b7c8-ccfcb7861b71",
   "metadata": {
    "canvas": {
     "comments": [],
     "componentType": "CodeCell",
     "copiedOriginId": null,
     "diskcache": false,
     "headerColor": "transparent",
     "id": "dab4a678-214f-4ca6-8218-935c3b3c2e25",
     "isComponent": false,
     "name": "",
     "parents": []
    },
    "tags": []
   },
   "source": [
    "# Data Ingestion"
   ]
  },
  {
   "cell_type": "code",
   "execution_count": 3,
   "id": "86de484e-3f78-4371-89b5-9ab2e0099a40",
   "metadata": {
    "canvas": {
     "comments": [],
     "componentType": "CodeCell",
     "copiedOriginId": null,
     "diskcache": true,
     "headerColor": "transparent",
     "id": "590f8b6e-4d15-4f35-8efe-4dfd41db7f05",
     "isComponent": true,
     "name": "Data Ingestion",
     "parents": [
      {
       "id": "e0f3d615-9124-457e-b278-f81939b2d644",
       "name": "Import module"
      }
     ]
    },
    "tags": []
   },
   "outputs": [],
   "source": [
    "mnist = tf.keras.datasets.mnist"
   ]
  },
  {
   "cell_type": "markdown",
   "id": "1a768d0a-c827-46d8-b7bb-9c6d0df15884",
   "metadata": {
    "canvas": {
     "comments": [],
     "componentType": "CodeCell",
     "copiedOriginId": null,
     "diskcache": false,
     "headerColor": "transparent",
     "id": "098b19e1-4f75-41ec-8cb4-77a1cff72128",
     "isComponent": false,
     "name": "",
     "parents": []
    }
   },
   "source": [
    "# Split Data"
   ]
  },
  {
   "cell_type": "code",
   "execution_count": 4,
   "id": "fed4bce5-4bc5-4c29-a3d5-2a756a672956",
   "metadata": {
    "canvas": {
     "comments": [],
     "componentType": "CodeCell",
     "copiedOriginId": null,
     "diskcache": true,
     "headerColor": "transparent",
     "id": "5b406627-8ef3-4e91-a688-f17b48e0b459",
     "isComponent": true,
     "name": "Split Data",
     "parents": [
      {
       "id": "590f8b6e-4d15-4f35-8efe-4dfd41db7f05",
       "name": "Data Ingestion"
      }
     ]
    },
    "tags": []
   },
   "outputs": [],
   "source": [
    "(X_train_full, y_train_full), (X_test, y_test)= mnist.load_data()\n",
    "\n",
    "X_valid, X_train = X_train_full[:5000]/255, X_train_full[5000:]/255\n",
    "y_valid, y_train = y_train_full[:5000], y_train_full[5000:]\n",
    "\n",
    "X_test = X_test/255\n"
   ]
  },
  {
   "cell_type": "markdown",
   "id": "fa2331cc-065e-4c7b-b8e1-b78caa9fbdaa",
   "metadata": {
    "canvas": {
     "comments": [],
     "componentType": "CodeCell",
     "copiedOriginId": null,
     "diskcache": false,
     "headerColor": "transparent",
     "id": "b5bae1f2-27d8-4e8c-ad79-70abe332f5b2",
     "isComponent": false,
     "name": "",
     "parents": []
    }
   },
   "source": [
    "# Model Definition"
   ]
  },
  {
   "cell_type": "code",
   "execution_count": null,
   "id": "c5a9539f-96c6-4b2e-a621-0f02acf2b80e",
   "metadata": {
    "canvas": {
     "comments": [],
     "componentType": "CodeCell",
     "copiedOriginId": null,
     "diskcache": true,
     "headerColor": "transparent",
     "id": "080855f7-c18a-45c0-a568-c13318fc91b3",
     "isComponent": true,
     "name": "Model Definition",
     "parents": [
      {
       "id": "5b406627-8ef3-4e91-a688-f17b48e0b459",
       "name": "Split Data"
      }
     ]
    },
    "tags": []
   },
   "outputs": [
    {
     "name": "stdout",
     "output_type": "stream",
     "text": [
      "Model: \"sequential_8\"\n",
      "_________________________________________________________________\n",
      " Layer (type)                Output Shape              Param #   \n",
      "=================================================================\n",
      " InputLayer (Flatten)        (None, 784)               0         \n",
      "                                                                 \n",
      " HiddenLayer1 (Dense)        (None, 300)               235500    \n",
      "                                                                 \n",
      " HiddenLayer2 (Dense)        (None, 100)               30100     \n",
      "                                                                 \n",
      " OutputLayer (Dense)         (None, 10)                1010      \n",
      "                                                                 \n",
      "=================================================================\n",
      "Total params: 266610 (1.02 MB)\n",
      "Trainable params: 266610 (1.02 MB)\n",
      "Non-trainable params: 0 (0.00 Byte)\n",
      "_________________________________________________________________\n"
     ]
    }
   ],
   "source": [
    "CLASSES = len(np.unique(y_train))\n",
    "\n",
    "LAYERS = [\n",
    "    tf.keras.layers.Flatten(input_shape= (28,28), name=\"InputLayer\"),\n",
    "    tf.keras.layers.Dense(300, activation='relu', name=\"HiddenLayer1\"),\n",
    "    tf.keras.layers.Dense(100, activation='relu', name='HiddenLayer2'),\n",
    "    tf.keras.layers.Dense(CLASSES, activation='softmax', name='OutputLayer')\n",
    "]\n",
    "\n",
    "model_clf = tf.keras.Sequential(LAYERS)\n",
    "model_clf.summary()"
   ]
  },
  {
   "cell_type": "markdown",
   "id": "dba551dd-99ea-499f-a504-e55aec4182d9",
   "metadata": {
    "canvas": {
     "comments": [],
     "componentType": "CodeCell",
     "copiedOriginId": null,
     "diskcache": false,
     "headerColor": "transparent",
     "id": "86ff4651-5c02-47e7-8592-56e095d1ffb4",
     "isComponent": false,
     "name": "",
     "parents": []
    }
   },
   "source": [
    "# Model Compilation"
   ]
  },
  {
   "cell_type": "code",
   "execution_count": 6,
   "id": "60f6aa10-cad9-42e1-bf96-661ff86000c1",
   "metadata": {
    "canvas": {
     "comments": [],
     "componentType": "CodeCell",
     "copiedOriginId": null,
     "diskcache": true,
     "headerColor": "transparent",
     "id": "18b9b59d-6b9f-45a8-a9d0-ef481b743600",
     "isComponent": true,
     "name": "Model compilation",
     "parents": [
      {
       "id": "080855f7-c18a-45c0-a568-c13318fc91b3",
       "name": "Model Definition"
      }
     ]
    },
    "tags": []
   },
   "outputs": [],
   "source": [
    "LOSS_FUNCTION = 'sparse_categorical_crossentropy'\n",
    "OPTIMIZERS = 'SGD'\n",
    "METRICS = ['accuracy']\n",
    "\n",
    "model_clf.compile(loss=LOSS_FUNCTION, optimizer=OPTIMIZERS, metrics=METRICS)"
   ]
  },
  {
   "cell_type": "markdown",
   "id": "e548cc6b-b90a-482d-88aa-11b8a038ba78",
   "metadata": {
    "canvas": {
     "comments": [],
     "componentType": "CodeCell",
     "copiedOriginId": null,
     "diskcache": false,
     "headerColor": "transparent",
     "id": "ad3da35f-0a0f-40f7-9065-ecc77d492153",
     "isComponent": false,
     "name": "",
     "parents": []
    }
   },
   "source": [
    "# Model Training"
   ]
  },
  {
   "cell_type": "code",
   "execution_count": null,
   "id": "33b43c6d-ba76-4ee9-9df1-997edaf44162",
   "metadata": {
    "canvas": {
     "comments": [],
     "componentType": "CodeCell",
     "copiedOriginId": null,
     "diskcache": true,
     "headerColor": "transparent",
     "id": "8e57cbbc-5b81-4354-be6f-b9c2fafaf6ee",
     "isComponent": true,
     "name": "Model Training",
     "parents": [
      {
       "id": "18b9b59d-6b9f-45a8-a9d0-ef481b743600",
       "name": "Model compilation"
      }
     ]
    },
    "tags": []
   },
   "outputs": [
    {
     "name": "stdout",
     "output_type": "stream",
     "text": [
      "1719/1719 [==============================] - 14s 7ms/step - loss: 0.6023 - accuracy: 0.8441 - val_loss: 0.3077 - val_accuracy: 0.9168\n"
     ]
    }
   ],
   "source": [
    "EPOCHS = 1\n",
    "\n",
    "VALIDATION = (X_valid, y_valid)\n",
    "\n",
    "history = model_clf.fit(\n",
    "    X_train,\n",
    "    y_train,\n",
    "    epochs=EPOCHS,\n",
    "    batch_size=32,\n",
    "    validation_data=VALIDATION\n",
    ")"
   ]
  },
  {
   "cell_type": "markdown",
   "id": "da6863dc-d11f-44b1-8f25-7a686f27cdf0",
   "metadata": {
    "canvas": {
     "comments": [],
     "componentType": "CodeCell",
     "copiedOriginId": null,
     "diskcache": false,
     "headerColor": "transparent",
     "id": "bc7cc17a-5a89-4bf1-96a9-af66f1c1e792",
     "isComponent": false,
     "name": "",
     "parents": []
    }
   },
   "source": [
    "# Model Evaluation"
   ]
  },
  {
   "cell_type": "code",
   "execution_count": null,
   "id": "2af2a560-60b4-4534-91d1-05205aa568f1",
   "metadata": {
    "canvas": {
     "comments": [],
     "componentType": "CodeCell",
     "copiedOriginId": null,
     "diskcache": true,
     "headerColor": "transparent",
     "id": "60eba640-1c6c-4bf0-a5b6-7a03eea5583b",
     "isComponent": true,
     "name": "Model Evaluation",
     "parents": [
      {
       "id": "8e57cbbc-5b81-4354-be6f-b9c2fafaf6ee",
       "name": "Model Training"
      },
      {
       "id": "5b406627-8ef3-4e91-a688-f17b48e0b459",
       "name": "Split Data"
      }
     ]
    },
    "tags": []
   },
   "outputs": [
    {
     "name": "stdout",
     "output_type": "stream",
     "text": [
      "313/313 [==============================] - 3s 8ms/step - loss: 0.3088 - accuracy: 0.9132\n"
     ]
    },
    {
     "data": {
      "text/plain": [
       "[0.3087964951992035, 0.9132000207901001]"
      ]
     },
     "execution_count": 0,
     "metadata": {
      "component_id": "60eba640-1c6c-4bf0-a5b6-7a03eea5583b"
     },
     "output_type": "execute_result"
    },
    {
     "data": {},
     "execution_count": 0,
     "metadata": {
      "component_id": "60eba640-1c6c-4bf0-a5b6-7a03eea5583b"
     },
     "output_type": "execute_result"
    }
   ],
   "source": [
    "model_clf.evaluate(X_test, y_test)"
   ]
  },
  {
   "cell_type": "markdown",
   "id": "023d0698-a3ad-4e83-99b7-4cc1076e30f1",
   "metadata": {
    "canvas": {
     "comments": [],
     "componentType": "CodeCell",
     "copiedOriginId": null,
     "diskcache": false,
     "headerColor": "transparent",
     "id": "e8821ff1-a7e0-4b27-bf6c-1f0a806c00c3",
     "isComponent": false,
     "name": "",
     "parents": []
    }
   },
   "source": [
    "# Model Save"
   ]
  },
  {
   "cell_type": "code",
   "execution_count": 9,
   "id": "a3f45f29-381a-4669-aa9d-f1e8b317c847",
   "metadata": {
    "canvas": {
     "comments": [],
     "componentType": "CodeCell",
     "copiedOriginId": null,
     "diskcache": false,
     "headerColor": "transparent",
     "id": "9185c43b-a152-4ef6-94b2-947623ced542",
     "isComponent": true,
     "name": "Model Save",
     "parents": [
      {
       "id": "60eba640-1c6c-4bf0-a5b6-7a03eea5583b",
       "name": "Model Evaluation"
      }
     ]
    },
    "tags": []
   },
   "outputs": [],
   "source": [
    "model_clf.save(\"mnist.h5\")"
   ]
  },
  {
   "cell_type": "markdown",
   "id": "15940cb0-6054-4631-8a97-fa5dc506cdf2",
   "metadata": {
    "canvas": {
     "comments": [],
     "componentType": "CodeCell",
     "copiedOriginId": null,
     "diskcache": false,
     "headerColor": "transparent",
     "id": "57594e27-9d3c-4bdf-ae3c-6def76d6bd8b",
     "isComponent": false,
     "name": "",
     "parents": []
    }
   },
   "source": [
    "# Model Inferencing"
   ]
  },
  {
   "cell_type": "code",
   "execution_count": 23,
   "id": "9fa43aea-5172-49b8-896a-96c14c9d062f",
   "metadata": {
    "canvas": {
     "comments": [],
     "componentType": "CodeCell",
     "copiedOriginId": null,
     "diskcache": false,
     "headerColor": "transparent",
     "id": "46232897-b133-40d1-8ec9-849886fc8bb9",
     "isComponent": true,
     "name": "Model Inferencing",
     "parents": [
      {
       "id": "9185c43b-a152-4ef6-94b2-947623ced542",
       "name": "Model Save"
      }
     ]
    },
    "tags": []
   },
   "outputs": [
    {
     "name": "stdout",
     "output_type": "stream",
     "text": [
      "1/1 [==============================] - 0s 167ms/step\n"
     ]
    },
    {
     "data": {
      "image/png": "[encoded data removed]",
      "text/plain": [
       "<Figure size 640x480 with 1 Axes>"
      ]
     },
     "metadata": {
      "component_id": "46232897-b133-40d1-8ec9-849886fc8bb9"
     },
     "output_type": "display_data"
    },
    {
     "name": "stdout",
     "output_type": "stream",
     "text": [
      "********************\n"
     ]
    },
    {
     "data": {
      "image/png": "[encoded data removed]",
      "text/plain": [
       "<Figure size 640x480 with 1 Axes>"
      ]
     },
     "metadata": {
      "component_id": "46232897-b133-40d1-8ec9-849886fc8bb9"
     },
     "output_type": "display_data"
    },
    {
     "name": "stdout",
     "output_type": "stream",
     "text": [
      "********************\n"
     ]
    },
    {
     "data": {
      "image/png": "[encoded data removed]",
      "text/plain": [
       "<Figure size 640x480 with 1 Axes>"
      ]
     },
     "metadata": {
      "component_id": "46232897-b133-40d1-8ec9-849886fc8bb9"
     },
     "output_type": "display_data"
    },
    {
     "name": "stdout",
     "output_type": "stream",
     "text": [
      "********************\n"
     ]
    }
   ],
   "source": [
    "X_new = X_test[:3]\n",
    "\n",
    "y_prob = model_clf.predict(X_new)\n",
    "Y_pred = np.argmax(y_prob, axis=-1)\n",
    "\n",
    "for img_array, pred, actual in zip(X_new, Y_pred, y_test[:3]):\n",
    "    plt.imshow(img_array, cmap='gray')\n",
    "    plt.title(f\"predicted : {pred}, actual:{actual}\")\n",
    "    plt.axis(\"off\")\n",
    "    plt.show()\n",
    "    print(\"*\"*20)\n",
    "             \n"
   ]
  },
  {
   "cell_type": "code",
   "execution_count": null,
   "id": "15240593-f598-490e-814a-7a78925af979",
   "metadata": {
    "canvas": {
     "comments": [],
     "componentType": "CodeCell",
     "copiedOriginId": null,
     "diskcache": false,
     "headerColor": "transparent",
     "id": "e2096f7d-327a-43ff-878a-64aafa3fae4f",
     "isComponent": false,
     "name": "",
     "parents": []
    }
   },
   "outputs": [],
   "source": []
  },
  {
   "cell_type": "code",
   "execution_count": null,
   "id": "466bcfb2-649b-48a0-9f02-bb1cdfc70378",
   "metadata": {
    "canvas": {
     "comments": [],
     "componentType": "CodeCell",
     "copiedOriginId": null,
     "diskcache": false,
     "headerColor": "transparent",
     "id": "b804971c-532b-4ce4-83ce-8da21776d3d1",
     "isComponent": false,
     "name": "",
     "parents": []
    }
   },
   "outputs": [],
   "source": []
  }
 ],
 "metadata": {
  "canvas": {
   "colorPalette": [
    "inherit",
    "inherit",
    "inherit",
    "inherit",
    "inherit",
    "inherit",
    "inherit",
    "inherit",
    "inherit",
    "inherit"
   ],
   "parameters": [],
   "version": "1.0"
  },
  "kernelspec": {
   "display_name": "Python 3 (ipykernel)",
   "language": "python",
   "name": "python3"
  },
  "language_info": {
   "codemirror_mode": {
    "name": "ipython",
    "version": 3
   },
   "file_extension": ".py",
   "mimetype": "text/x-python",
   "name": "python",
   "nbconvert_exporter": "python",
   "pygments_lexer": "ipython3",
   "version": "3.8.18"
  },
  "toc-autonumbering": true,
  "toc-showmarkdowntxt": true,
  "toc-showtags": false
 },
 "nbformat": 4,
 "nbformat_minor": 5
}
